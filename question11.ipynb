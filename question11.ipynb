{
 "cells": [
  {
   "cell_type": "markdown",
   "id": "605d9b88-0de9-4187-8609-97d8a52d9d9b",
   "metadata": {},
   "source": [
    "# DIANA (Hong Du)\n",
    "## Notebook for assignment 7"
   ]
  },
  {
   "cell_type": "code",
   "execution_count": 12,
   "id": "e7bc6767-008f-481b-929c-4f416af859e0",
   "metadata": {},
   "outputs": [
    {
     "name": "stdout",
     "output_type": "stream",
     "text": [
      "5.0\n"
     ]
    }
   ],
   "source": [
    "def compute_mean(values):\n",
    "    \"\"\"\n",
    "    compute the mean of a list of numbers.\n",
    "    \"\"\"\n",
    "    return sum(values)/len(values)\n",
    "\n",
    "# call the function with the example list\n",
    "result = compute_mean([2,4,6,8])\n",
    "print(result)"
   ]
  },
  {
   "cell_type": "markdown",
   "id": "b8c8cb76-0d1e-4527-96a5-ab4bd5fd8dd6",
   "metadata": {},
   "source": [
    "The function `compute_mean` computes the mean of a list of numbers. It does so by summing all the values in the list and then dividing by the number of values. \n",
    "\n",
    "The formula for the mean is given by:\n",
    "\n",
    "\\begin{equation}\n",
    "\\overline{\\mbox{x}}=\\frac{x_1+x_2+...+x_n}{n}\n",
    "\\end{equation}\n",
    "\n",
    "or equivalently:\n",
    "\n",
    "\\begin{equation}\n",
    "\\overline{\\mbox{x}}=\\frac{1}{n}(\\sum_{i=1}^{n}x_i)\n",
    "\\end{equation}\n",
    "\n",
    "where \\( N \\) is the number of values, \\( x_i \\) are the individual values, and \\( n \\) is the number of elements in the list."
   ]
  },
  {
   "cell_type": "code",
   "execution_count": null,
   "id": "f9f8739c-4f99-4892-8205-a7ade0512e85",
   "metadata": {},
   "outputs": [],
   "source": []
  }
 ],
 "metadata": {
  "kernelspec": {
   "display_name": "Python 3 (ipykernel)",
   "language": "python",
   "name": "python3"
  },
  "language_info": {
   "codemirror_mode": {
    "name": "ipython",
    "version": 3
   },
   "file_extension": ".py",
   "mimetype": "text/x-python",
   "name": "python",
   "nbconvert_exporter": "python",
   "pygments_lexer": "ipython3",
   "version": "3.12.3"
  }
 },
 "nbformat": 4,
 "nbformat_minor": 5
}
