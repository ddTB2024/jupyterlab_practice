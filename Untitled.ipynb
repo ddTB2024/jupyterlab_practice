{
 "cells": [
  {
   "cell_type": "code",
   "execution_count": null,
   "id": "50363ec3-0dee-44b1-ad5c-e02f7b3c3185",
   "metadata": {},
   "outputs": [],
   "source": [
    "import pandas as pd\n",
    "\n"
   ]
  },
  {
   "cell_type": "code",
   "execution_count": 22,
   "id": "89d1cc81-18d4-4c78-8912-249b91d528f0",
   "metadata": {},
   "outputs": [],
   "source": [
    "a=0"
   ]
  },
  {
   "cell_type": "code",
   "execution_count": 18,
   "id": "1fcaf67e-0f44-4cf9-bacf-466ba29446b3",
   "metadata": {},
   "outputs": [],
   "source": [
    "b=1"
   ]
  },
  {
   "cell_type": "code",
   "execution_count": 19,
   "id": "ebed6253-c740-49b9-b03a-abdbf5fd8326",
   "metadata": {},
   "outputs": [],
   "source": [
    "x=2"
   ]
  },
  {
   "cell_type": "code",
   "execution_count": 23,
   "id": "88f1a3d8-3e10-4bd5-b624-e2ad60178f3e",
   "metadata": {},
   "outputs": [],
   "source": [
    "for i in range(2):\n",
    "    a = a + 1\n",
    "    x =x + a*b"
   ]
  },
  {
   "cell_type": "code",
   "execution_count": 24,
   "id": "15b3e524-6556-4b01-9dd0-8449a8e02068",
   "metadata": {},
   "outputs": [
    {
     "name": "stdout",
     "output_type": "stream",
     "text": [
      "8,2\n"
     ]
    }
   ],
   "source": [
    "print(f'{x},{a}')"
   ]
  },
  {
   "cell_type": "code",
   "execution_count": 21,
   "id": "5cb3d2b7-8c20-419b-aed2-b1505489464f",
   "metadata": {},
   "outputs": [
    {
     "data": {
      "text/plain": [
       "(5, 2)"
      ]
     },
     "execution_count": 21,
     "metadata": {},
     "output_type": "execute_result"
    }
   ],
   "source": [
    "x,a"
   ]
  },
  {
   "cell_type": "code",
   "execution_count": null,
   "id": "dd8ac83d-4935-42c6-bc5a-eb16969e6f5e",
   "metadata": {},
   "outputs": [],
   "source": []
  }
 ],
 "metadata": {
  "kernelspec": {
   "display_name": "Python 3 (ipykernel)",
   "language": "python",
   "name": "python3"
  },
  "language_info": {
   "codemirror_mode": {
    "name": "ipython",
    "version": 3
   },
   "file_extension": ".py",
   "mimetype": "text/x-python",
   "name": "python",
   "nbconvert_exporter": "python",
   "pygments_lexer": "ipython3",
   "version": "3.12.3"
  }
 },
 "nbformat": 4,
 "nbformat_minor": 5
}
